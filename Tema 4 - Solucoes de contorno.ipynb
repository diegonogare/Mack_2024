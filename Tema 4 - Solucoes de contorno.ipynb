{
  "nbformat": 4,
  "nbformat_minor": 0,
  "metadata": {
    "colab": {
      "provenance": [],
      "authorship_tag": "ABX9TyM4T/9esRJVvwCpUs64xVCt"
    },
    "kernelspec": {
      "name": "python3",
      "display_name": "Python 3"
    },
    "language_info": {
      "name": "python"
    }
  },
  "cells": [
    {
      "cell_type": "code",
      "execution_count": null,
      "metadata": {
        "id": "uoNPZdQbjwDE"
      },
      "outputs": [],
      "source": []
    },
    {
      "cell_type": "markdown",
      "source": [
        "#Soluções de contorno para problemas de qualidade e quantidades de dados"
      ],
      "metadata": {
        "id": "W-81TzDOk5y1"
      }
    },
    {
      "cell_type": "code",
      "source": [
        "import pandas as pd"
      ],
      "metadata": {
        "id": "W9l5SXNuk5lD"
      },
      "execution_count": null,
      "outputs": []
    }
  ]
}