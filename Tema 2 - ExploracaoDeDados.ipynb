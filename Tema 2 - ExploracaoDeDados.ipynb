{
 "cells": [
  {
   "cell_type": "markdown",
   "metadata": {},
   "source": [
    "# Binary Classification of Machine Failures"
   ]
  },
  {
   "cell_type": "markdown",
   "metadata": {},
   "source": [
    "Este é um dataset do Kaggle, sobre vagas de emprego para Ciência de Dados em 2024. Estes dados são do Glassdoor, que fornece informações sobre o mercado de trabalho, tendências do setor e características dos empregadores.\n",
    "A base pode ser acessada no link: https://www.kaggle.com/competitions/playground-series-s3e17/data"
   ]
  },
  {
   "cell_type": "code",
   "execution_count": 1,
   "metadata": {},
   "outputs": [],
   "source": [
    "%config InteractiveShell.ast_node_interactivity = 'all'\n",
    "\n",
    "import pandas as pd"
   ]
  },
  {
   "cell_type": "markdown",
   "metadata": {},
   "source": [
    "## Carregamento dos dados "
   ]
  },
  {
   "cell_type": "markdown",
   "metadata": {},
   "source": [
    "Garanta que o arquivo baixado no Kaggle esteja disponível na pasta raiz deste arquivo do Jupyter Notebook"
   ]
  },
  {
   "cell_type": "code",
   "execution_count": 2,
   "metadata": {},
   "outputs": [],
   "source": [
    "dataset = pd.read_csv(\"Glassdoor_Job_Postings.csv\")"
   ]
  },
  {
   "cell_type": "code",
   "execution_count": 3,
   "metadata": {},
   "outputs": [
    {
     "name": "stdout",
     "output_type": "stream",
     "text": [
      "<class 'pandas.core.frame.DataFrame'>\n",
      "RangeIndex: 900 entries, 0 to 899\n",
      "Data columns (total 18 columns):\n",
      " #   Column                       Non-Null Count  Dtype  \n",
      "---  ------                       --------------  -----  \n",
      " 0   company                      899 non-null    object \n",
      " 1   job_title                    900 non-null    object \n",
      " 2   company_rating               656 non-null    float64\n",
      " 3   job_description              888 non-null    object \n",
      " 4   location                     900 non-null    object \n",
      " 5   salary_avg_estimate          636 non-null    object \n",
      " 6   salary_estimate_payperiod    636 non-null    object \n",
      " 7   company_size                 774 non-null    object \n",
      " 8   company_founded              774 non-null    object \n",
      " 9   employment_type              774 non-null    object \n",
      " 10  industry                     774 non-null    object \n",
      " 11  sector                       774 non-null    object \n",
      " 12  revenue                      774 non-null    object \n",
      " 13  career_opportunities_rating  731 non-null    float64\n",
      " 14  comp_and_benefits_rating     731 non-null    float64\n",
      " 15  culture_and_values_rating    731 non-null    float64\n",
      " 16  senior_management_rating     731 non-null    float64\n",
      " 17  work_life_balance_rating     731 non-null    float64\n",
      "dtypes: float64(6), object(12)\n",
      "memory usage: 126.7+ KB\n"
     ]
    }
   ],
   "source": [
    "dataset.info()"
   ]
  },
  {
   "cell_type": "code",
   "execution_count": 4,
   "metadata": {},
   "outputs": [
    {
     "data": {
      "text/html": [
       "<div>\n",
       "<style scoped>\n",
       "    .dataframe tbody tr th:only-of-type {\n",
       "        vertical-align: middle;\n",
       "    }\n",
       "\n",
       "    .dataframe tbody tr th {\n",
       "        vertical-align: top;\n",
       "    }\n",
       "\n",
       "    .dataframe thead th {\n",
       "        text-align: right;\n",
       "    }\n",
       "</style>\n",
       "<table border=\"1\" class=\"dataframe\">\n",
       "  <thead>\n",
       "    <tr style=\"text-align: right;\">\n",
       "      <th></th>\n",
       "      <th>company_rating</th>\n",
       "      <th>career_opportunities_rating</th>\n",
       "      <th>comp_and_benefits_rating</th>\n",
       "      <th>culture_and_values_rating</th>\n",
       "      <th>senior_management_rating</th>\n",
       "      <th>work_life_balance_rating</th>\n",
       "    </tr>\n",
       "  </thead>\n",
       "  <tbody>\n",
       "    <tr>\n",
       "      <th>count</th>\n",
       "      <td>656.000000</td>\n",
       "      <td>731.000000</td>\n",
       "      <td>731.000000</td>\n",
       "      <td>731.000000</td>\n",
       "      <td>731.000000</td>\n",
       "      <td>731.000000</td>\n",
       "    </tr>\n",
       "    <tr>\n",
       "      <th>mean</th>\n",
       "      <td>3.948171</td>\n",
       "      <td>3.838304</td>\n",
       "      <td>3.678796</td>\n",
       "      <td>3.903010</td>\n",
       "      <td>3.677702</td>\n",
       "      <td>3.804378</td>\n",
       "    </tr>\n",
       "    <tr>\n",
       "      <th>std</th>\n",
       "      <td>0.440294</td>\n",
       "      <td>0.520020</td>\n",
       "      <td>0.525854</td>\n",
       "      <td>0.545233</td>\n",
       "      <td>0.589133</td>\n",
       "      <td>0.559777</td>\n",
       "    </tr>\n",
       "    <tr>\n",
       "      <th>min</th>\n",
       "      <td>1.000000</td>\n",
       "      <td>1.000000</td>\n",
       "      <td>1.000000</td>\n",
       "      <td>1.000000</td>\n",
       "      <td>1.000000</td>\n",
       "      <td>1.000000</td>\n",
       "    </tr>\n",
       "    <tr>\n",
       "      <th>25%</th>\n",
       "      <td>3.700000</td>\n",
       "      <td>3.600000</td>\n",
       "      <td>3.400000</td>\n",
       "      <td>3.600000</td>\n",
       "      <td>3.300000</td>\n",
       "      <td>3.600000</td>\n",
       "    </tr>\n",
       "    <tr>\n",
       "      <th>50%</th>\n",
       "      <td>4.000000</td>\n",
       "      <td>3.800000</td>\n",
       "      <td>3.700000</td>\n",
       "      <td>3.900000</td>\n",
       "      <td>3.600000</td>\n",
       "      <td>3.800000</td>\n",
       "    </tr>\n",
       "    <tr>\n",
       "      <th>75%</th>\n",
       "      <td>4.200000</td>\n",
       "      <td>4.100000</td>\n",
       "      <td>4.000000</td>\n",
       "      <td>4.200000</td>\n",
       "      <td>4.000000</td>\n",
       "      <td>4.100000</td>\n",
       "    </tr>\n",
       "    <tr>\n",
       "      <th>max</th>\n",
       "      <td>5.000000</td>\n",
       "      <td>5.000000</td>\n",
       "      <td>5.000000</td>\n",
       "      <td>5.000000</td>\n",
       "      <td>5.000000</td>\n",
       "      <td>5.000000</td>\n",
       "    </tr>\n",
       "  </tbody>\n",
       "</table>\n",
       "</div>"
      ],
      "text/plain": [
       "       company_rating  career_opportunities_rating  comp_and_benefits_rating  \\\n",
       "count      656.000000                   731.000000                731.000000   \n",
       "mean         3.948171                     3.838304                  3.678796   \n",
       "std          0.440294                     0.520020                  0.525854   \n",
       "min          1.000000                     1.000000                  1.000000   \n",
       "25%          3.700000                     3.600000                  3.400000   \n",
       "50%          4.000000                     3.800000                  3.700000   \n",
       "75%          4.200000                     4.100000                  4.000000   \n",
       "max          5.000000                     5.000000                  5.000000   \n",
       "\n",
       "       culture_and_values_rating  senior_management_rating  \\\n",
       "count                 731.000000                731.000000   \n",
       "mean                    3.903010                  3.677702   \n",
       "std                     0.545233                  0.589133   \n",
       "min                     1.000000                  1.000000   \n",
       "25%                     3.600000                  3.300000   \n",
       "50%                     3.900000                  3.600000   \n",
       "75%                     4.200000                  4.000000   \n",
       "max                     5.000000                  5.000000   \n",
       "\n",
       "       work_life_balance_rating  \n",
       "count                731.000000  \n",
       "mean                   3.804378  \n",
       "std                    0.559777  \n",
       "min                    1.000000  \n",
       "25%                    3.600000  \n",
       "50%                    3.800000  \n",
       "75%                    4.100000  \n",
       "max                    5.000000  "
      ]
     },
     "execution_count": 4,
     "metadata": {},
     "output_type": "execute_result"
    }
   ],
   "source": [
    "dataset.describe()"
   ]
  },
  {
   "cell_type": "markdown",
   "metadata": {},
   "source": [
    "## Apresentação de todo o conjunto de dados"
   ]
  },
  {
   "cell_type": "code",
   "execution_count": 5,
   "metadata": {},
   "outputs": [
    {
     "data": {
      "text/html": [
       "<div>\n",
       "<style scoped>\n",
       "    .dataframe tbody tr th:only-of-type {\n",
       "        vertical-align: middle;\n",
       "    }\n",
       "\n",
       "    .dataframe tbody tr th {\n",
       "        vertical-align: top;\n",
       "    }\n",
       "\n",
       "    .dataframe thead th {\n",
       "        text-align: right;\n",
       "    }\n",
       "</style>\n",
       "<table border=\"1\" class=\"dataframe\">\n",
       "  <thead>\n",
       "    <tr style=\"text-align: right;\">\n",
       "      <th></th>\n",
       "      <th>company</th>\n",
       "      <th>job_title</th>\n",
       "      <th>company_rating</th>\n",
       "      <th>job_description</th>\n",
       "      <th>location</th>\n",
       "    </tr>\n",
       "  </thead>\n",
       "  <tbody>\n",
       "    <tr>\n",
       "      <th>0</th>\n",
       "      <td>ABB</td>\n",
       "      <td>Junior Data Analyst</td>\n",
       "      <td>4.0</td>\n",
       "      <td>Junior Data Analyst\\nTake your next career ste...</td>\n",
       "      <td>Bengaluru</td>\n",
       "    </tr>\n",
       "    <tr>\n",
       "      <th>1</th>\n",
       "      <td>Philips</td>\n",
       "      <td>Data Scientist - AI/ML</td>\n",
       "      <td>4.0</td>\n",
       "      <td>Job Title\\nData Scientist - AI/ML\\nJob Descrip...</td>\n",
       "      <td>Bengaluru</td>\n",
       "    </tr>\n",
       "    <tr>\n",
       "      <th>2</th>\n",
       "      <td>HSBC</td>\n",
       "      <td>Data Science GSC’s</td>\n",
       "      <td>3.9</td>\n",
       "      <td>Job description\\nGraduate/ Post-graduate degre...</td>\n",
       "      <td>Bengaluru</td>\n",
       "    </tr>\n",
       "    <tr>\n",
       "      <th>3</th>\n",
       "      <td>Facctum Solutions</td>\n",
       "      <td>Data Analyst</td>\n",
       "      <td>NaN</td>\n",
       "      <td>Job Description\\nExperience: 0 - 2 years in da...</td>\n",
       "      <td>Karnataka</td>\n",
       "    </tr>\n",
       "    <tr>\n",
       "      <th>4</th>\n",
       "      <td>JPMorgan Chase &amp; Co</td>\n",
       "      <td>Data and Analytics - Associate</td>\n",
       "      <td>4.0</td>\n",
       "      <td>JOB DESCRIPTION\\n\\nYou are a strategic thinker...</td>\n",
       "      <td>India</td>\n",
       "    </tr>\n",
       "  </tbody>\n",
       "</table>\n",
       "</div>"
      ],
      "text/plain": [
       "               company                       job_title  company_rating  \\\n",
       "0                  ABB             Junior Data Analyst             4.0   \n",
       "1              Philips          Data Scientist - AI/ML             4.0   \n",
       "2                 HSBC              Data Science GSC’s             3.9   \n",
       "3    Facctum Solutions                    Data Analyst             NaN   \n",
       "4  JPMorgan Chase & Co  Data and Analytics - Associate             4.0   \n",
       "\n",
       "                                     job_description   location  \n",
       "0  Junior Data Analyst\\nTake your next career ste...  Bengaluru  \n",
       "1  Job Title\\nData Scientist - AI/ML\\nJob Descrip...  Bengaluru  \n",
       "2  Job description\\nGraduate/ Post-graduate degre...  Bengaluru  \n",
       "3  Job Description\\nExperience: 0 - 2 years in da...  Karnataka  \n",
       "4  JOB DESCRIPTION\\n\\nYou are a strategic thinker...      India  "
      ]
     },
     "execution_count": 5,
     "metadata": {},
     "output_type": "execute_result"
    },
    {
     "data": {
      "text/html": [
       "<div>\n",
       "<style scoped>\n",
       "    .dataframe tbody tr th:only-of-type {\n",
       "        vertical-align: middle;\n",
       "    }\n",
       "\n",
       "    .dataframe tbody tr th {\n",
       "        vertical-align: top;\n",
       "    }\n",
       "\n",
       "    .dataframe thead th {\n",
       "        text-align: right;\n",
       "    }\n",
       "</style>\n",
       "<table border=\"1\" class=\"dataframe\">\n",
       "  <thead>\n",
       "    <tr style=\"text-align: right;\">\n",
       "      <th></th>\n",
       "      <th>company</th>\n",
       "      <th>salary_avg_estimate</th>\n",
       "      <th>salary_estimate_payperiod</th>\n",
       "      <th>company_size</th>\n",
       "      <th>company_founded</th>\n",
       "      <th>employment_type</th>\n",
       "    </tr>\n",
       "  </thead>\n",
       "  <tbody>\n",
       "    <tr>\n",
       "      <th>0</th>\n",
       "      <td>ABB</td>\n",
       "      <td>₹3,25,236</td>\n",
       "      <td>/yr (est.)</td>\n",
       "      <td>10000+ Employees</td>\n",
       "      <td>1883</td>\n",
       "      <td>Company - Public</td>\n",
       "    </tr>\n",
       "    <tr>\n",
       "      <th>1</th>\n",
       "      <td>Philips</td>\n",
       "      <td>NaN</td>\n",
       "      <td>NaN</td>\n",
       "      <td>10000+ Employees</td>\n",
       "      <td>1891</td>\n",
       "      <td>Company - Public</td>\n",
       "    </tr>\n",
       "    <tr>\n",
       "      <th>2</th>\n",
       "      <td>HSBC</td>\n",
       "      <td>NaN</td>\n",
       "      <td>NaN</td>\n",
       "      <td>10000+ Employees</td>\n",
       "      <td>1865</td>\n",
       "      <td>Company - Public</td>\n",
       "    </tr>\n",
       "    <tr>\n",
       "      <th>3</th>\n",
       "      <td>Facctum Solutions</td>\n",
       "      <td>NaN</td>\n",
       "      <td>NaN</td>\n",
       "      <td>1 to 50 Employees</td>\n",
       "      <td>--</td>\n",
       "      <td>Company - Private</td>\n",
       "    </tr>\n",
       "    <tr>\n",
       "      <th>4</th>\n",
       "      <td>JPMorgan Chase &amp; Co</td>\n",
       "      <td>NaN</td>\n",
       "      <td>NaN</td>\n",
       "      <td>10000+ Employees</td>\n",
       "      <td>1799</td>\n",
       "      <td>Company - Public</td>\n",
       "    </tr>\n",
       "  </tbody>\n",
       "</table>\n",
       "</div>"
      ],
      "text/plain": [
       "               company salary_avg_estimate salary_estimate_payperiod  \\\n",
       "0                  ABB           ₹3,25,236                /yr (est.)   \n",
       "1              Philips                 NaN                       NaN   \n",
       "2                 HSBC                 NaN                       NaN   \n",
       "3    Facctum Solutions                 NaN                       NaN   \n",
       "4  JPMorgan Chase & Co                 NaN                       NaN   \n",
       "\n",
       "        company_size company_founded    employment_type  \n",
       "0   10000+ Employees            1883   Company - Public  \n",
       "1   10000+ Employees            1891   Company - Public  \n",
       "2   10000+ Employees            1865   Company - Public  \n",
       "3  1 to 50 Employees              --  Company - Private  \n",
       "4   10000+ Employees            1799   Company - Public  "
      ]
     },
     "execution_count": 5,
     "metadata": {},
     "output_type": "execute_result"
    },
    {
     "data": {
      "text/html": [
       "<div>\n",
       "<style scoped>\n",
       "    .dataframe tbody tr th:only-of-type {\n",
       "        vertical-align: middle;\n",
       "    }\n",
       "\n",
       "    .dataframe tbody tr th {\n",
       "        vertical-align: top;\n",
       "    }\n",
       "\n",
       "    .dataframe thead th {\n",
       "        text-align: right;\n",
       "    }\n",
       "</style>\n",
       "<table border=\"1\" class=\"dataframe\">\n",
       "  <thead>\n",
       "    <tr style=\"text-align: right;\">\n",
       "      <th></th>\n",
       "      <th>company</th>\n",
       "      <th>industry</th>\n",
       "      <th>sector</th>\n",
       "      <th>revenue</th>\n",
       "      <th>career_opportunities_rating</th>\n",
       "      <th>comp_and_benefits_rating</th>\n",
       "    </tr>\n",
       "  </thead>\n",
       "  <tbody>\n",
       "    <tr>\n",
       "      <th>0</th>\n",
       "      <td>ABB</td>\n",
       "      <td>Electronics Manufacturing</td>\n",
       "      <td>Manufacturing</td>\n",
       "      <td>$10+ billion (USD)</td>\n",
       "      <td>3.7</td>\n",
       "      <td>3.6</td>\n",
       "    </tr>\n",
       "    <tr>\n",
       "      <th>1</th>\n",
       "      <td>Philips</td>\n",
       "      <td>Healthcare Services &amp; Hospitals</td>\n",
       "      <td>Healthcare</td>\n",
       "      <td>$10+ billion (USD)</td>\n",
       "      <td>3.8</td>\n",
       "      <td>3.7</td>\n",
       "    </tr>\n",
       "    <tr>\n",
       "      <th>2</th>\n",
       "      <td>HSBC</td>\n",
       "      <td>Banking &amp; Lending</td>\n",
       "      <td>Finance</td>\n",
       "      <td>$10+ billion (USD)</td>\n",
       "      <td>3.6</td>\n",
       "      <td>3.6</td>\n",
       "    </tr>\n",
       "    <tr>\n",
       "      <th>3</th>\n",
       "      <td>Facctum Solutions</td>\n",
       "      <td>--</td>\n",
       "      <td>--</td>\n",
       "      <td>Unknown / Non-Applicable</td>\n",
       "      <td>NaN</td>\n",
       "      <td>NaN</td>\n",
       "    </tr>\n",
       "    <tr>\n",
       "      <th>4</th>\n",
       "      <td>JPMorgan Chase &amp; Co</td>\n",
       "      <td>Banking &amp; Lending</td>\n",
       "      <td>Finance</td>\n",
       "      <td>$10+ billion (USD)</td>\n",
       "      <td>4.0</td>\n",
       "      <td>3.9</td>\n",
       "    </tr>\n",
       "  </tbody>\n",
       "</table>\n",
       "</div>"
      ],
      "text/plain": [
       "               company                         industry         sector  \\\n",
       "0                  ABB        Electronics Manufacturing  Manufacturing   \n",
       "1              Philips  Healthcare Services & Hospitals     Healthcare   \n",
       "2                 HSBC                Banking & Lending        Finance   \n",
       "3    Facctum Solutions                               --             --   \n",
       "4  JPMorgan Chase & Co                Banking & Lending        Finance   \n",
       "\n",
       "                    revenue  career_opportunities_rating  \\\n",
       "0        $10+ billion (USD)                          3.7   \n",
       "1        $10+ billion (USD)                          3.8   \n",
       "2        $10+ billion (USD)                          3.6   \n",
       "3  Unknown / Non-Applicable                          NaN   \n",
       "4        $10+ billion (USD)                          4.0   \n",
       "\n",
       "   comp_and_benefits_rating  \n",
       "0                       3.6  \n",
       "1                       3.7  \n",
       "2                       3.6  \n",
       "3                       NaN  \n",
       "4                       3.9  "
      ]
     },
     "execution_count": 5,
     "metadata": {},
     "output_type": "execute_result"
    },
    {
     "data": {
      "text/html": [
       "<div>\n",
       "<style scoped>\n",
       "    .dataframe tbody tr th:only-of-type {\n",
       "        vertical-align: middle;\n",
       "    }\n",
       "\n",
       "    .dataframe tbody tr th {\n",
       "        vertical-align: top;\n",
       "    }\n",
       "\n",
       "    .dataframe thead th {\n",
       "        text-align: right;\n",
       "    }\n",
       "</style>\n",
       "<table border=\"1\" class=\"dataframe\">\n",
       "  <thead>\n",
       "    <tr style=\"text-align: right;\">\n",
       "      <th></th>\n",
       "      <th>company</th>\n",
       "      <th>culture_and_values_rating</th>\n",
       "      <th>senior_management_rating</th>\n",
       "      <th>work_life_balance_rating</th>\n",
       "    </tr>\n",
       "  </thead>\n",
       "  <tbody>\n",
       "    <tr>\n",
       "      <th>0</th>\n",
       "      <td>ABB</td>\n",
       "      <td>4.0</td>\n",
       "      <td>3.5</td>\n",
       "      <td>3.9</td>\n",
       "    </tr>\n",
       "    <tr>\n",
       "      <th>1</th>\n",
       "      <td>Philips</td>\n",
       "      <td>4.0</td>\n",
       "      <td>3.5</td>\n",
       "      <td>4.0</td>\n",
       "    </tr>\n",
       "    <tr>\n",
       "      <th>2</th>\n",
       "      <td>HSBC</td>\n",
       "      <td>3.8</td>\n",
       "      <td>3.4</td>\n",
       "      <td>3.7</td>\n",
       "    </tr>\n",
       "    <tr>\n",
       "      <th>3</th>\n",
       "      <td>Facctum Solutions</td>\n",
       "      <td>NaN</td>\n",
       "      <td>NaN</td>\n",
       "      <td>NaN</td>\n",
       "    </tr>\n",
       "    <tr>\n",
       "      <th>4</th>\n",
       "      <td>JPMorgan Chase &amp; Co</td>\n",
       "      <td>3.9</td>\n",
       "      <td>3.6</td>\n",
       "      <td>3.7</td>\n",
       "    </tr>\n",
       "  </tbody>\n",
       "</table>\n",
       "</div>"
      ],
      "text/plain": [
       "               company  culture_and_values_rating  senior_management_rating  \\\n",
       "0                  ABB                        4.0                       3.5   \n",
       "1              Philips                        4.0                       3.5   \n",
       "2                 HSBC                        3.8                       3.4   \n",
       "3    Facctum Solutions                        NaN                       NaN   \n",
       "4  JPMorgan Chase & Co                        3.9                       3.6   \n",
       "\n",
       "   work_life_balance_rating  \n",
       "0                       3.9  \n",
       "1                       4.0  \n",
       "2                       3.7  \n",
       "3                       NaN  \n",
       "4                       3.7  "
      ]
     },
     "execution_count": 5,
     "metadata": {},
     "output_type": "execute_result"
    }
   ],
   "source": [
    "ds1 = dataset[[\"company\",\"job_title\",\"company_rating\",\"job_description\",\"location\"]].head()\n",
    "ds2 = dataset[[\"company\",\"salary_avg_estimate\",\"salary_estimate_payperiod\",\"company_size\",\"company_founded\",\"employment_type\"]].head()\n",
    "ds3 = dataset[[\"company\",\"industry\",\"sector\",\"revenue\",\"career_opportunities_rating\",\"comp_and_benefits_rating\"]].head()\n",
    "ds4 = dataset[[\"company\",\"culture_and_values_rating\",\"senior_management_rating\", \"work_life_balance_rating\"]].head()\n",
    "\n",
    "ds1\n",
    "ds2\n",
    "ds3\n",
    "ds4"
   ]
  },
  {
   "cell_type": "markdown",
   "metadata": {},
   "source": [
    "Seguindo a que discutimos no material, algumas variáveis contendo elementos textuais podem ser caracterizadas em *Dados Estruturados* e *Dados Não Estruturados*. Vamos ver alguns exemplos?"
   ]
  },
  {
   "cell_type": "code",
   "execution_count": 6,
   "metadata": {},
   "outputs": [
    {
     "name": "stdout",
     "output_type": "stream",
     "text": [
      "Titulos de empregos únicos: 505\n",
      "===============\n"
     ]
    },
    {
     "data": {
      "text/plain": [
       "Data Analyst                           121\n",
       "Data Scientist                          93\n",
       "Data Engineer                           59\n",
       "Data Entry Operator                     19\n",
       "Data Science Intern                      8\n",
       "                                      ... \n",
       "IT Business Analyst 2024 Internship      1\n",
       "Data Visualization                       1\n",
       "Data Engineer (WFH)                      1\n",
       "Data Analyst (License Compliance)        1\n",
       "Data Science Internship                  1\n",
       "Name: job_title, Length: 505, dtype: int64"
      ]
     },
     "execution_count": 6,
     "metadata": {},
     "output_type": "execute_result"
    }
   ],
   "source": [
    "print('Titulos de empregos únicos:',dataset[\"job_title\"].unique().size)\n",
    "print('===============')\n",
    "dataset[\"job_title\"].value_counts()"
   ]
  },
  {
   "cell_type": "code",
   "execution_count": 7,
   "metadata": {},
   "outputs": [
    {
     "name": "stdout",
     "output_type": "stream",
     "text": [
      "Setores únicos: 24\n",
      "===============\n"
     ]
    },
    {
     "data": {
      "text/plain": [
       "Information Technology                         295\n",
       "--                                             146\n",
       "Finance                                         80\n",
       "Management & Consulting                         55\n",
       "Manufacturing                                   46\n",
       "Pharmaceutical & Biotechnology                  28\n",
       "Media & Communication                           23\n",
       "Retail & Wholesale                              14\n",
       "Healthcare                                      14\n",
       "Human Resources & Staffing                      13\n",
       "Education                                       10\n",
       "Energy, Mining, Utilities                        7\n",
       "Real Estate                                      6\n",
       "Aerospace & Defence                              6\n",
       "Telecommunications                               6\n",
       "Agriculture                                      5\n",
       "Non-profit & NGO                                 5\n",
       "Construction, Repair & Maintenance Services      4\n",
       "Insurance                                        4\n",
       "Transportation & Logistics                       3\n",
       "Hotel & Travel Accommodation                     2\n",
       "Arts, Entertainment & Recreation                 1\n",
       "Legal                                            1\n",
       "Name: sector, dtype: int64"
      ]
     },
     "execution_count": 7,
     "metadata": {},
     "output_type": "execute_result"
    }
   ],
   "source": [
    "print('Setores únicos:',dataset[\"sector\"].unique().size)\n",
    "print('===============')\n",
    "dataset[\"sector\"].value_counts()"
   ]
  },
  {
   "cell_type": "code",
   "execution_count": 8,
   "metadata": {},
   "outputs": [
    {
     "name": "stdout",
     "output_type": "stream",
     "text": [
      "Faturamento anual: 11\n",
      "===============\n"
     ]
    },
    {
     "data": {
      "text/plain": [
       "Unknown / Non-Applicable            369\n",
       "$10+ billion (USD)                  191\n",
       "$2 to $5 billion (USD)               56\n",
       "$100 to $500 million (USD)           32\n",
       "$5 to $25 million (USD)              27\n",
       "$25 to $50 million (USD)             25\n",
       "$5 to $10 billion (USD)              23\n",
       "$1 to $5 million (USD)               21\n",
       "Less than $1 million (USD)           18\n",
       "$500 million to $1 billion (USD)     12\n",
       "Name: revenue, dtype: int64"
      ]
     },
     "execution_count": 8,
     "metadata": {},
     "output_type": "execute_result"
    }
   ],
   "source": [
    "print('Faturamento anual:',dataset[\"revenue\"].unique().size)\n",
    "print('===============')\n",
    "dataset[\"revenue\"].value_counts()"
   ]
  },
  {
   "cell_type": "code",
   "execution_count": 9,
   "metadata": {},
   "outputs": [
    {
     "name": "stdout",
     "output_type": "stream",
     "text": [
      "Descrição da vaga: 882\n",
      "===============\n"
     ]
    },
    {
     "data": {
      "text/plain": [
       "Job Summary :\\nOur corporate activities are growing rapidly, and we are currently seeking a full-time, office-based Data Coordinator to join our Core Laboratory/Imaging Services team in Mumbai, India. This position will work on a team to accomplish tasks and projects that are instrumental to the company’s success. If you want an exciting career where you use your previous expertise and can develop and grow your career even further, then this is the opportunity for you.\\nResponsibilities :\\nAssist in the preparation of Core Lab Data Management documents;\\nPerform validation on data transfers and edit programs;\\nMaintain data cleanup via edits, data review and data changes; and\\nSend data transfers externally.\\nQualifications :\\nBachelor's degree in life science/ pharmacy/ health related field with strong attention to detail and working knowledge of Excel and Word; and\\n1-2 years of experience in a pharmaceutical or CRO setting preferred.\\nMedpace Overview :\\nMedpace is a full-service clinical contract research organization (CRO). We provide Phase I-IV clinical development services to the biotechnology, pharmaceutical and medical device industries. Our mission is to accelerate the global development of safe and effective medical therapeutics through its scientific and disciplined approach. We leverage local regulatory and therapeutic expertise across all major areas including oncology, cardiology, metabolic disease, endocrinology, central nervous system, anti-viral and anti-infective. Headquartered in Cincinnati, Ohio, employing more than 5,000 people across 40+ countries.\\nWhy Medpace? :\\nPeople. Purpose. Passion. Make a Difference Tomorrow. Join Us Today.\\n\\nThe work we’ve done over the past 30+ years has positively impacted the lives of countless patients and families who face hundreds of diseases across all key therapeutic areas. The work we do today will improve the lives of people living with illness and disease in the future.\\n\\nMedpace Perks\\nHybrid work-from-home options (dependent upon position and level)\\nCompetitive PTO packages\\nCompany-sponsored employee appreciation events\\nEmployee health and wellness initiatives\\nFlexible work schedule\\nCompetitive compensation and benefits package\\nStructured career paths with opportunities for professional growth\\nAwards\\nRecognized by Forbes as one of America's Best Mid-size Companies in 2021, 2022 and 2023\\nContinually recognized with CRO Leadership Awards from Life Science Leader magazine based on expertise, quality, capabilities, reliability, and compatibility\\n\\nWhat to Expect Next\\nA Medpace team member will review your qualifications and, if interested, you will be contacted with details for next steps.\\n\\nEO/AA Employer M/F/Disability/Vets                                                                                                                                                                                                                                                                                                                                                                                                                                                                                                                                                                                                                                                                                                                                                                                                                                                                                                                                                                                                                                                                                                                                                                                                                                                                                                                                                                                                                                                                                                                                                                      3\n",
       "Selected intern's day-to-day responsibilities include:\\n1. Maintaining and arranging Excel sheets & Google Docs\\n2. Working on data annotation, audio annotation and labelling over our platform (training will be given)\\n3. Taking updates, managing the workers, and maintaining their accounts in an Excel sheet\\n4. Working on the data annotation projects which are provided by the senior\\n5. Duration of Internship is 2 months.\\n6. Stipend will be 8000 per month\\nNote- You must come office for starting 10 days for the training purpose at Noida office (Sec-62)\\nWho can apply\\nOnly those candidates can apply who:\\n1. are available for full time (WFH) internship\\n2. can start the internship immediately\\n3. are available for duration of 2 months\\n4. have relevant skills and interests\\nSkill(s) required\\nAudio Editing and Making\\nVideo Editing\\nEnglish Proficiency (Spoken and Written)\\nMS-Excel\\nMS-Word\\nMS-Powerpoint\\nJob Type: Internship\\nContract length: 3 months\\nSalary: From ₹5,000.00 per month\\nSchedule:\\nDay shift\\nWork Location: Remote                                                                                                                                                                                                                                                                                                                                                                                                                                                                                                                                                                                                                                                                                                                                                                                                                                                                                                                                                                                                                                                                                                                                                                                                                                                                                                                                                                                                                                                                                                                                                                                                                                                                                                                                                                                                                                                                                                                                                                                                                                                                                                                                                                                                                                                                                                                                                                                                                                                                                                                                                                                                                                                                                                                                                                                                                                                                                                                                                                                                                                                                                                                                                                                                                                                                                                                                        2\n",
       "Job Brief\\nWe’re on the lookout for a highly skilled Lead Associate with expertise in data analysis to join our Bengaluru team, with minimum of 5 years’ experience, demonstrating advanced proficiency in Excel. As a Lead Associate, your responsibilities will involve designing and implementing complex spreadsheets, analyzing data, and providing valuable insights to drive business decisions. It’s crucial to have an in-depth understanding of spreadsheet structures, including tabs, rows, cells, and columns, coupled with the ability to accurately input and format data for clarity and effective presentation.\\nRoles and Responsibilities:\\nPrepare, publish, and maintain high-quality data.\\nUtilize automated tools to extract data from primary and secondary sources.\\nIdentify and rectify corrupted data, coding errors, and related issues.\\nDevelop and maintain databases and data systems.\\nAnalyze to assess the quality and significance of data.\\nFilter data by reviewing reports and performance indicators to identify and correct code problems.\\nAnalyze local, national, and global trends affecting both the organization and the industry.\\nGenerate reports for management, presenting trends, patterns, and predictions using relevant data.\\nProvide stakeholders with final analysis reports, outlining data analysis steps to facilitate informed decision-making.\\nRequirements:\\nBachelor’s degree in business, banking, finance, or a related field.\\nExcel expert with a minimum of 5 years of experience streamlining financial reporting and data analysis.\\nHighly organized with strong prioritization skills.\\nEffective communication skills, both verbal and written.\\nDetail-oriented with a focus on strong data analysis skills.\\nHigh mathematical aptitude.\\nProficiency in Microsoft Office, particularly Excel and PowerPoint.\\nFlexibility to work both day and night shifts.                                                                                                                                                                                                                                                                                                                                                                                                                                                                                                                                                                                                                                                                                                                                                                                                                                                                                                                                                                                                                                                                                                                                                                                                                                                                                                                                                                                                                                                                                                                                                                                                                                                                                                                                                                                                                                                                                                                                                                                                                                                                                                                                                                                                                                                                                                                                                                                                                                                                                  2\n",
       "Every great story has a new beginning, and yours starts here.\\nWelcome to Warner Bros. Discovery… the stuff dreams are made of.\\nWho We Are…\\nWhen we say, “the stuff dreams are made of,” we’re not just referring to the world of wizards, dragons and superheroes, or even to the wonders of Planet Earth. Behind WBD’s vast portfolio of iconic content and beloved brands, are the storytellers bringing our characters to life, the creators bringing them to your living rooms and the dreamers creating what’s next…\\nFrom brilliant creatives, to technology trailblazers, across the globe, WBD offers career defining opportunities, thoughtfully curated benefits, and the tools to explore and grow into your best selves. Here you are supported, here you are celebrated, here you can thrive.\\nYour New Role:\\n\\nThis role will work with a fast-paced team to create the data technology stack that can be used to deliver end-user insights used for developing the next generation of digital products and product strategies. You’ll also help build out an internal data pipeline and develop ways to optimize data technologies to shape our digital data strategy.\\nYour Role Accountabilities:\\n\\nGain an understanding of brand and enterprise data warehouse/reporting requirements that will inform the data architecture and modeling approach. Employ these learnings to construct appropriate ETL processes, database queries, and data/permission models that support data aggregation and reporting on actionable insights\\nPassion to write code which is efficient, organized, simple and scalable meeting business requirements.\\nEnthusiasm to learn and finding opportunity to enhance and adopt in the daily engineering activities is highly desired.\\nDeliver end-to-end JIRA User stories meeting quality expectations of the team.\\nFamiliarity with BI Tools and able to create semantic layer models for the business users\\nGain an understanding of multiple datasets to be able to perform ad-hoc analysis for different business units\\nParticipate in QA testing for data pipeline projects as well as implementation changes to the suite of analytical tools\\nQualifications & Experiences:\\n\\nBachelor's degree in computer science, information systems, or information technology.\\n3+ years of experience in data engineering\\nExperience with programming languages – SQL, Python, AWS Glue and databases (Snowflake, Postgres, Dynamo DB)\\nExperience with AWS cloud services – Kinesis, Lambda, IAM Policies\\nExperienced in software delivery through continuous integration (for example git, bitbucket, Jenkins, etc.)\\nExperienced in one or more automation and scheduling tools (for example Redwood, Airflow, etc.)\\nExperience leveraging creative analytics techniques and output to tell a story to drive business decisions\\nChampions the capabilities and benefits of analytical data assets. Partner effectively across departments and stakeholders\\nSolid business acumen, and critical problem-solving ability, with a capacity for strategic thinking\\n\\nNot Required but preferred experience:\\n\\nPublic speaking and presentation skills.\\nDeep understanding of API connectivity and data streaming architecture\\nHow We Get Things Done…\\nThis last bit is probably the most important! Here at WBD, our guiding principles are the core values by which we operate and are central to how we get things done. You can find them at www.wbd.com/guiding-principles/ along with some insights from the team on what they mean and how they show up in their day to day. We hope they resonate with you and look forward to discussing them during your interview.\\nThe Legal Bits…\\nWarner Bros. Discovery embraces the opportunity to build a workforce that reflects the diversity of our society and the world around us. Being an equal opportunity employer means that we take seriously our responsibility to consider qualified candidates on the basis of merit, regardless of sex, gender identity, ethnicity, age, sexual orientation, religion or belief, marital status, pregnancy, parenthood, disability or any other category protected by law.\\nIf you’re a qualified candidate and you require adjustments or accommodations to search for a job opening or apply for a position, please contact us at recruitadmin@wbd.com.    2\n",
       "Sandvik Mining & Rock Solutions, the leading global supplier of equipment and tools, service, and technical solutions for the mining industry, currently has an opening for a Data Entry Operator at the Udaipur location.\\nKey performance areas\\nWe are now recruiting a Data Entry Operator who will works alongside the Site in charge to help in execution of the maintenance planning processes on site to achieve customer satisfaction internally and externally and ensure compliance with contractual requirements.\\nJob Responsibilities\\n1. Systems of work, which encompass Personnel Safety and Environmental diligence, are implemented using all relevant Sandvik and / or Client Procedures, Work Instructions and Risk Assessment methods as appropriate. All service engineers & technicians receive adequate instruction, training and Supervision to enable them to work safely. All tasks are planned considering safety in mind and work place safety is managed using communication and consultation.\\n2.Enter work done detail into MAXIMO/CMMS\\n3.Set up work orders in MAXIMO/CMMS for future planned work\\n4.Enter Condition monitoring information into MAXIMO/CMMS. This would typically be hour meter readings, Oil and Fuel Consumption’s wear pressure and flow measurements from work orders.\\n5.Check for Errors in the days capturing and make corrections.\\n6.Run and supply standard reports from the reporting system\\n7.Cross comparison along with site maintenance planner to ensure all work orders are returned and correctly filled in\\n8.Cross comparison to ensure all parts that were issued are reflected on work orders\\n9.Allocate work to capturers\\n10.Accountable for any errors in the system being rectified.\\n11.Manage the flow of paper work between different role players\\n12.Keep MAXIMO/CMMS system live.\\nSafety and Environment\\nComplies with SMC safety policies and applicable government, customer or industry regulations or requirements\\nIdentifies and reports any unsafe work habits, workplace incidents and / or near misses\\nMaintains orderly warehouse and ensures housekeeping requirements are met\\nPersonal Leadership\\nEnsures that all activities are carried out in accordance with Company Values and current Company Policies and Procedures\\nGeneral\\nPerforms other relevant duties as assigned by Manager\\nYour profile\\nApplicant will possess a Diploma/ B. Tech Degree (Mechanical, Electrical, Electronics , Electronics and communication ) with 3 years relevant experience with Computer Systems Literacy and knowledge of Excel ,word , Power point.\\nOther requirements include:\\nAbility to work as part of an integrated, broad team;\\nMust be flexible, self-motivated and demonstrate initiative;\\nHighly developed time management and organisational skills;\\nAn understanding of the mining industry will be an advantage\\nBenefits\\nSandvik offers a comprehensive total compensation package including a competitive benefits package of health, disability insurance, and a retirement savings plan. In addition, we provide opportunities for professional competence development and training, as well as opportunities for career advancement.                                                                                                                                                                                                                                                                                                                                                                                                                                                                                                                                                                                                                                                                                                                                                                                                                                                                                                                                                                                                                                                                                                                                                                  2\n",
       "                                                                                                                                                                                                                                                                                                                                                                                                                                                                                                                                                                                                                                                                                                                                                                                                                                                                                                                                                                                                                                                                                                                                                                                                                                                                                                                                                                                                                                                                                                                                                                                                                                                                                                                                                                                                                                                                                                                                                                                                                                                                                                                                                                                                                                                                                                                                                                                                                                                                                                                                                                                                                                                                                                                                                                                                                                                                                                                                                                                                                                                                                                                                                                                                                                                                                                                                                                                                                                                                                                                                                                                                                                                                                                                                                                                                                                                                                                                                                                                                                                                                                                                                                                                                                                                                                                                                                                                                                               ..\n",
       "We are looking for a driven individual with analytical mindset who is ready for an immersive, real-world experience. You should be a motivated team player who can maintain efficiency and accuracy when multitasking. To be a strong candidate for an this role, you should possess strong quantitative, analytical, programming, communication and problem-solving skills. You should be collaborative, trustworthy, receptive to feedback, and eager to learn. The candidate will be required to spend majority of time on ad-hoc analytics and reporting with occasional opportunities for advanced analytics projects\\nKey Responsibilities\\nWorking with Analytics internal teams and business partners to define and document business requirements\\nTranslating business requirements into Solutions\\nPerform and deliver on complex ad-hoc business analysis requests\\nDevelop predictive models to support varied business objectives, as needed\\nDevelopment and execution of reports for program tracking, model validation, and other information-based solutions support\\nTranslate analytic output into understandable and actionable business knowledge\\nEngage US counterparts to ensure solutions are appropriate as per business requirement and level of readiness\\nCoordinate and prioritize business needs in a matrix management environment\\nDocumentation and communication of results and recommendations to external and internal teams\\nEnsuring maintenance of requisite quality standards\\n\\nRequired Qualifications\\nRequired Qualifications – Engineering Degree (BE/ BTECH) or Master Degree in Economics / Mathematics / Operation Research or PG in Data Science/ML from a reputed institute\\n1.5-4 years of experience in analytics\\nStrong Python/SAS programming and data manipulation skills\\nStrong quantitative/analytical/programming and problem-solving skills\\nExcellent knowledge of MS Excel, Power point and Word\\nStrong and consistent academic performance\\nHighly motivated self-starter with excellent verbal and written communication skills\\nAbility to work effectively in a team environment on multiple projects and drive results through direct and in-direct influence\\nBasic understanding on analytics implementation experience across digital platforms using Adobe/Google Analytics.\\nBasic understanding on any of tools like - Adobe/Google Analytics, Adobe Target, Google Optimize, Adobe DTM (Adobe Launch).\\nBasic understanding on tagging requirements for digital data layers (event based like ACDL) within company Tag Management solution (Adobe Data Collection, Ensighten, Tealium,)\\n\\nPreferred Qualifications\\nPreferred Qualifications –\\nExperience with Power BI / Tableau\\nAbout Our Company\\nAmeriprise India LLP has been providing client based financial solutions to help clients plan and achieve their financial objectives for 125 years. We are a U.S. based financial planning company headquartered in Minneapolis with a global presence. The firm’s focus areas include Asset Management and Advice, Retirement Planning and Insurance Protection. Be part of an inclusive, collaborative culture that rewards you for your contributions and work with other talented individuals who share your passion for doing great work. You’ll also have plenty of opportunities to make your mark at the office and a difference in your community. So if you're talented, driven and want to work for a strong ethical company that cares, take the next step and create a career at Ameriprise India LLP.\\nAmeriprise India LLP is an equal opportunity employer. We consider all qualified applicants without regard to race, color, religion, sex, genetic information, age, sexual orientation, gender identity, disability, veteran status, marital status, family status or any other basis prohibited by law.\\nFull-Time/Part-Time\\nFull time\\nTimings\\n(2:00p-10:30p)\\nIndia Business Unit\\nAWMPO AWMP&S President's Office\\nJob Family Group\\nData                                                                                                                                                                                                                                                                                                                                                                      1\n",
       "Location : Bangalore\\nTechnology : SQL, Python, DQ tools such as Informatica CDQ\\nJob Description:\\nData quality related experience,\\nSQL, Python, DQ tools such as Informatica CDQ,\\nData quality profiling skills,\\nTelco data experience is an added plus\\nResponsibilities:\\nSource system data analysis,\\nData profiling for identified datasets,\\nSynthesize findings and reports,\\nDevelop remediation scripts, develop algorithmic cleanup scripts where needed, manual data remediations.                                                                                                                                                                                                                                                                                                                                                                                                                                                                                                                                                                                                                                                                                                                                                                                                                                                                                                                                                                                                                                                                                                                                                                                                                                                                                                                                                                                                                                                                                                                                                                                                                                                                                                                                                                                                                                                                                                                                                                                                                                                                                                                                                                                                                                                                                                                                                                                                                                                                                                                                                                                                                                                                                                                                                                                                                                                                                                                                                                                                                                                                                                                                                                                                                                                                                                                                                                                                                                                                                                                                                                                                                                                                                                                                                                                                                                                                                                                              1\n",
       "Must have\\nOracle Database- performance tuning - SQL/PLSQL- expert level.\\nUnix, linux -redhat or any other OS - more than average level.\\nGood to have\\nDocumentation like for GxP Validation activities, requirement spec creation etc .\\nAWS cloud - IAAS services (cloudformation,EC2,VPC, EFS etc).\\nAzure devops- CI/CD pipelines creation etc.\\nR Administration and programming a plus.\\nAbout 7N\\nFounded in Copenhagen, 7N currently manages more than 2000+ specialized consultants within a wide range of industries and leading companies in Denmark, Norway, Sweden, Finland, Switzerland, Italy, Poland, India and USA. 7Ns global reach brings with it increasing opportunities for both companies and consultants.\\nFor over 30 years of operation we have proven that a clear and transparent financial model, collaboration exclusively with experts in their respective fields, and taking good care of them.                                                                                                                                                                                                                                                                                                                                                                                                                                                                                                                                                                                                                                                                                                                                                                                                                                                                                                                                                                                                                                                                                                                                                                                                                                                                                                                                                                                                                                                                                                                                                                                                                                                                                                                                                                                                                                                                                                                                                                                                                                                                                                                                                                                                                                                                                                                                                                                                                                                                                                                                                                                                                                                                                                                                                                                                                                                                                                                                                                                                                                                                                                                                                                                                                                                                                                                                                                                                                                                                                               1\n",
       "Job Description\\n\\nRoles and responsibilities:\\n1. Data processing, cleaning and validating the integrity of data to be used for analytics\\n\\n2. Data extraction using valuable data sources\\n\\n3. Perform initial investigation and exploratory data analysis\\n\\n4. Analyzing large amount of data to find patterns and solution\\n\\n5. Build predictive machine learning models using alogorithms like regression, tree based, boosting etc\\n\\n6. Develop econometric and statistical models for various problems including projections, classification, clustering, pattern analysis, sampling, simulations, and so forth.\\n\\n7. Propose solutions and strategies to tackle complex business problems                                                                                                                                                                                                                                                                                                                                                                                                                                                                                                                                                                                                                                                                                                                                                                                                                                                                                                                                                                                                                                                                                                                                                                                                                                                                                                                                                                                                                                                                                                                                                                                                                                                                                                                                                                                                                                                                                                                                                                                                                                                                                                                                                                                                                                                                                                                                                                                                                                                                                                                                                                                                                                                                                                                                                                                                                                                                                                                                                                                                                                                                                                                                                                                                                                                                                                                                                                                                                                                                                                                                                                                                                                                                                                                         1\n",
       "Job Location\\nRemote work from: All Location\\nDescription\\nJob Description\\nBig data profile - Java, Scala, Spark, Python, HIVE, OOZIE, sqoop..\\ngood to have is tableau skillset\\nSpark, HDFS , Hive, sqoop\\nOptional skills\\nSpark streaming\\nHbase\\n\\nHiring organization\\nEmployment Type\\nFull-time\\nBase Salary\\nINR500000-INR800000 Per year\\nExperience\\n3-5 years\\nContacts\\n8221901204, 7876212244\\nDate posted\\nJuly 26, 2021                                                                                                                                                                                                                                                                                                                                                                                                                                                                                                                                                                                                                                                                                                                                                                                                                                                                                                                                                                                                                                                                                                                                                                                                                                                                                                                                                                                                                                                                                                                                                                                                                                                                                                                                                                                                                                                                                                                                                                                                                                                                                                                                                                                                                                                                                                                                                                                                                                                                                                                                                                                                                                                                                                                                                                                                                                                                                                                                                                                                                                                                                                                                                                                                                                                                                                                                                                                                                                                                                                                                                                                                                                                                                                                                                                                                                                                                                                                                                                                        1\n",
       "Name: job_description, Length: 881, dtype: int64"
      ]
     },
     "execution_count": 9,
     "metadata": {},
     "output_type": "execute_result"
    }
   ],
   "source": [
    "print('Descrição da vaga:',dataset[\"job_description\"].unique().size)\n",
    "print('===============')\n",
    "dataset[\"job_description\"].value_counts()"
   ]
  }
 ],
 "metadata": {
  "kernelspec": {
   "display_name": "Python 3",
   "language": "python",
   "name": "python3"
  },
  "language_info": {
   "codemirror_mode": {
    "name": "ipython",
    "version": 3
   },
   "file_extension": ".py",
   "mimetype": "text/x-python",
   "name": "python",
   "nbconvert_exporter": "python",
   "pygments_lexer": "ipython3",
   "version": "3.9.0"
  }
 },
 "nbformat": 4,
 "nbformat_minor": 4
}
